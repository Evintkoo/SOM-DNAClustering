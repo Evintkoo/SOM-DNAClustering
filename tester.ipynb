{
 "cells": [
  {
   "cell_type": "code",
   "execution_count": 15,
   "metadata": {},
   "outputs": [
    {
     "data": {
      "text/plain": [
       "['acgtgacatcagcattatatgctacagcatcagcaggcagcagta',\n",
       " 'acgcgcgcactcagcatcgactgcatcgactagcatgcatcga',\n",
       " 'actactcgcatgcatcgctaccctagctggatcgatc',\n",
       " 'actcattcatcatcatagcatatcatcataactac']"
      ]
     },
     "execution_count": 15,
     "metadata": {},
     "output_type": "execute_result"
    }
   ],
   "source": [
    "a = [\"acgtgacatcagcattatatgctacagcatcagcaggcagcagta\", \n",
    "                  \"acgcgcgcactcagcatcgactgcatcgactagcatgcatcga\", \n",
    "                  \"actactcgcatgcatcgctaccctagctggatcgatc\",\n",
    "                  \"actcattcatcatcatagcatatcatcataactac\"]\n",
    "valid_nucleotides = \"acgt\"\n",
    "[strands for strands in a if all(char in valid_nucleotides for char in strands)]"
   ]
  },
  {
   "cell_type": "code",
   "execution_count": null,
   "metadata": {},
   "outputs": [],
   "source": []
  }
 ],
 "metadata": {
  "kernelspec": {
   "display_name": "Python 3",
   "language": "python",
   "name": "python3"
  },
  "language_info": {
   "codemirror_mode": {
    "name": "ipython",
    "version": 3
   },
   "file_extension": ".py",
   "mimetype": "text/x-python",
   "name": "python",
   "nbconvert_exporter": "python",
   "pygments_lexer": "ipython3",
   "version": "3.10.11"
  },
  "orig_nbformat": 4
 },
 "nbformat": 4,
 "nbformat_minor": 2
}
